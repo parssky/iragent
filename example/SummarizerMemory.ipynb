{
 "cells": [
  {
   "cell_type": "markdown",
   "id": "da8208e1",
   "metadata": {},
   "source": [
    "# Let's see how SummarizeMemory works"
   ]
  },
  {
   "cell_type": "code",
   "execution_count": null,
   "id": "daf05e97",
   "metadata": {},
   "outputs": [],
   "source": [
    "base_url= \"\" # use your own base_url from api provider or local provider like ollama.\n",
    "api_key = \"\" # use your own api_key.\n",
    "provider = \"openai\" # openai for openai like provider (vLLM or openrouter) and ollama for local use.\n",
    "model = \"gpt-4o-mini\""
   ]
  },
  {
   "cell_type": "code",
   "execution_count": null,
   "id": "e5b6e5c9",
   "metadata": {},
   "outputs": [],
   "source": [
    "from iragent.agent import AgentFactory\n",
    "from iragent.memory import SummarizerMemory\n",
    "\n",
    "factory = AgentFactory(base_url, api_key, model, provider)\n",
    "\n",
    "def log_task(task: str) -> str:\n",
    "    return f\"Task '{task}' logged successfully.\"\n",
    "\n",
    "task_manager_prompt = \"\"\"\n",
    "You are a task manager assistant.\n",
    "When the user gives you a task, confirm it has been logged.\n",
    "\"\"\"\n",
    "\n",
    "agent = factory.create_agent(\n",
    "    name=\"task_manager\",\n",
    "    system_prompt=task_manager_prompt,\n",
    "    fn=[log_task],\n",
    "    memory=lambda: SummarizerMemory(factory, memory_limit=5)  # Trigger summary after ~3 user-agent rounds\n",
    ")"
   ]
  },
  {
   "cell_type": "code",
   "execution_count": null,
   "id": "8fdf2e70",
   "metadata": {},
   "outputs": [
    {
     "name": "stdout",
     "output_type": "stream",
     "text": [
      "User: Remind me to submit the report by Friday.\n",
      "Agent: Message(from=task_manager, to=None, content=Your task to submit the report by Friday has been logged successfully.)\n",
      "----------------------------------------\n",
      "User: Add: schedule dentist appointment for Tuesday.\n",
      "Agent: Message(from=task_manager, to=None, content=Your task to schedule a dentist appointment for Tuesday has been logged successfully.)\n",
      "----------------------------------------\n",
      "User: Add: call John about the contract.\n",
      "Agent: Message(from=task_manager, to=None, content=Your task to call John about the contract has been logged successfully.)\n",
      "----------------------------------------\n",
      "User: Set a reminder to water the plants on Sunday.\n",
      "Agent: Message(from=task_manager, to=None, content=Your reminder to water the plants on Sunday has been logged successfully.)\n",
      "----------------------------------------\n",
      "User: Add a task to review the meeting notes from last week.\n",
      "Agent: Message(from=task_manager, to=None, content=The task to review the meeting notes from last week has been logged successfully.)\n",
      "----------------------------------------\n",
      "User: Can you list all my current tasks?\n",
      "Agent: Message(from=task_manager, to=None, content=Here are your current tasks:\n",
      "\n",
      "1. Submit the report by Friday.\n",
      "2. Schedule a dentist appointment for Tuesday.\n",
      "3. Call John about the contract.\n",
      "4. Water the plants on Sunday.\n",
      "5. Review the meeting notes from last week.)\n",
      "----------------------------------------\n",
      "\n",
      "Final memory content:\n",
      "system: (summary) Your tasks include submitting the report by Friday, scheduling a dentist appointment for Tuesday, calling John about the contract, and watering the plants on Sunday.\n",
      "assistant: Your reminder to water the plants on Sunday has been logged successfully.\n",
      "user: Add a task to review the meeting notes from last week.\n",
      "assistant: The task to review the meeting notes from last week has been logged successfully.\n",
      "user: Can you list all my current tasks?\n",
      "assistant: Here are your current tasks:\n",
      "\n",
      "1. Submit the report by Friday.\n",
      "2. Schedule a dentist appointment for Tuesday.\n",
      "3. Call John about the contract.\n",
      "4. Water the plants on Sunday.\n",
      "5. Review the meeting notes from last week.\n"
     ]
    }
   ],
   "source": [
    "from iragent.message import Message\n",
    "\n",
    "user_tasks = [\n",
    "    \"Remind me to submit the report by Friday.\",\n",
    "    \"Add: schedule dentist appointment for Tuesday.\",\n",
    "    \"Add: call John about the contract.\",\n",
    "    \"Set a reminder to water the plants on Sunday.\",\n",
    "    \"Add a task to review the meeting notes from last week.\",\n",
    "    \"Can you list all my current tasks?\"  # This is a variation\n",
    "]\n",
    "\n",
    "for msg in user_tasks:\n",
    "    response = agent.call_message(Message(content=msg))\n",
    "    print(f\"User: {msg}\")\n",
    "    print(f\"Agent: {response}\")\n",
    "    print(\"-\" * 40)\n",
    "\n",
    "# Print final memory\n",
    "print(\"\\nFinal memory content:\")\n",
    "for m in agent.memory.get_history():\n",
    "    print(f\"{m['role']}: {m['content']}\")"
   ]
  },
  {
   "cell_type": "code",
   "execution_count": null,
   "id": "6beb8846",
   "metadata": {},
   "outputs": [],
   "source": []
  }
 ],
 "metadata": {
  "kernelspec": {
   "display_name": "venv",
   "language": "python",
   "name": "python3"
  },
  "language_info": {
   "codemirror_mode": {
    "name": "ipython",
    "version": 3
   },
   "file_extension": ".py",
   "mimetype": "text/x-python",
   "name": "python",
   "nbconvert_exporter": "python",
   "pygments_lexer": "ipython3",
   "version": "3.12.9"
  }
 },
 "nbformat": 4,
 "nbformat_minor": 5
}
