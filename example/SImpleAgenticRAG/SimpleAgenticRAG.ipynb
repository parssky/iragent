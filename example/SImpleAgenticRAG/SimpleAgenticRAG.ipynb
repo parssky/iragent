{
 "cells": [
  {
   "cell_type": "markdown",
   "id": "da0b2ec1",
   "metadata": {},
   "source": [
    "# SimpleAgenticRAG\n",
    "\n",
    "In this Notebook test SimpleAgenticRAG that works with FAISS Vector Store.\n",
    "\n",
    "`Instal iragent[rag] for this notebook. `\n",
    "\n",
    "### Local Usage\n",
    "\n",
    "I use qwen3-4b-instruct-2507 with only 4B parameters. This model fine tuned on tool calls. I test it on LMStudio and Ollama. \n",
    "\n",
    "### Support \n",
    "\n",
    "For now we support raw texts and markdown files, which are great for LLMs."
   ]
  },
  {
   "cell_type": "code",
   "execution_count": 1,
   "id": "4bf45fd1",
   "metadata": {},
   "outputs": [],
   "source": [
    "base_url= \"http://127.0.0.1:1234/v1\" # use your own base_url from api provider or local provider like ollama.\n",
    "api_key = \"no-key\" # use your own api_key.\n",
    "provider = \"ollama\" # openai for openai like provider (vLLM or openrouter) and ollama for local use.\n",
    "model = \"qwen3-4b-instruct-2507\""
   ]
  },
  {
   "cell_type": "code",
   "execution_count": 2,
   "id": "5c3d0d14",
   "metadata": {},
   "outputs": [
    {
     "name": "stderr",
     "output_type": "stream",
     "text": [
      "/Users/apple/Desktop/Mehre_pars/venv/lib/python3.12/site-packages/tqdm/auto.py:21: TqdmWarning: IProgress not found. Please update jupyter and ipywidgets. See https://ipywidgets.readthedocs.io/en/stable/user_install.html\n",
      "  from .autonotebook import tqdm as notebook_tqdm\n"
     ]
    }
   ],
   "source": [
    "from sentence_transformers import SentenceTransformer\n",
    "\n",
    "from iragent.models import KnowledgeGraphBuilder\n",
    "\n",
    "emb_model = SentenceTransformer(\"all-MiniLM-L6-v2\")\n",
    "\n",
    "kg = KnowledgeGraphBuilder(embedding_model=emb_model, index_dir=\"./text-store/\")\n",
    "texts = [\"FAISS (Facebook AI Similarity Search) is a library for efficient similarity search and clustering of dense vectors.\",\n",
    "        \"It is written in C++ with bindings for Python, and is widely used for large-scale nearest-neighbor search.\", \n",
    "        \"FAISS supports both exact search and approximate search algorithms, making it flexible for different speed/accuracy needs.\", \n",
    "        \"The library was developed by Facebook’s AI Research (FAIR) team.\"]\n",
    "kg.build_index_from_texts(texts)\n"
   ]
  },
  {
   "cell_type": "code",
   "execution_count": 3,
   "id": "21fffda6",
   "metadata": {},
   "outputs": [
    {
     "name": "stdout",
     "output_type": "stream",
     "text": [
      "['FAISS supports both exact search and approximate search algorithms, making it flexible for different speed/accuracy needs.', 'FAISS (Facebook AI Similarity Search) is a library for efficient similarity search and clustering of dense vectors.']\n"
     ]
    }
   ],
   "source": [
    "print(kg.search(query=\"FAISS\", k=2))"
   ]
  },
  {
   "cell_type": "code",
   "execution_count": 4,
   "id": "808bc0c1",
   "metadata": {},
   "outputs": [],
   "source": [
    "from iragent.agent import AgentFactory\n",
    "from iragent.models import SimpleAgenticRAG\n",
    "\n",
    "agent_factory = AgentFactory(\n",
    "    base_url=base_url,\n",
    "    api_key=api_key,\n",
    "    model=model,\n",
    "    provider=provider\n",
    ")\n",
    "\n",
    "rag = SimpleAgenticRAG(\n",
    "    kg = kg,\n",
    "    agent_factory= agent_factory\n",
    ")"
   ]
  },
  {
   "cell_type": "code",
   "execution_count": 5,
   "id": "152d9f09",
   "metadata": {},
   "outputs": [
    {
     "name": "stdout",
     "output_type": "stream",
     "text": [
      "Routing from user -> retirever \n",
      " content: Who developed FAISS?\n",
      "Routing from retirever -> generator \n",
      " content: context: \"The library was developed by Facebook’s AI Research (FAIR) team.\"\n",
      "user input: Who developed FAISS?\n"
     ]
    }
   ],
   "source": [
    "answer = rag.ask(\"Who developed FAISS?\")"
   ]
  },
  {
   "cell_type": "code",
   "execution_count": 6,
   "id": "80f65f6c",
   "metadata": {},
   "outputs": [
    {
     "data": {
      "text/plain": [
       "'FAISS was developed by Facebook’s AI Research (FAIR) team.'"
      ]
     },
     "execution_count": 6,
     "metadata": {},
     "output_type": "execute_result"
    }
   ],
   "source": [
    "answer"
   ]
  },
  {
   "cell_type": "markdown",
   "id": "04508682",
   "metadata": {},
   "source": [
    "# From Markdown"
   ]
  },
  {
   "cell_type": "code",
   "execution_count": 7,
   "id": "76d5dc91",
   "metadata": {},
   "outputs": [],
   "source": [
    "from sentence_transformers import SentenceTransformer\n",
    "\n",
    "from iragent.models import KnowledgeGraphBuilder\n",
    "\n",
    "emb_model = SentenceTransformer(\"all-MiniLM-L6-v2\")\n",
    "\n",
    "kg = KnowledgeGraphBuilder(embedding_model=emb_model,index_dir=\"markdown-store\")\n",
    "kg.build_index_from_markdown(dir_path=\"./markdowns/\", strip_markdown=True, recursive=True)\n"
   ]
  },
  {
   "cell_type": "code",
   "execution_count": 8,
   "id": "d5cd26bd",
   "metadata": {},
   "outputs": [
    {
     "name": "stdout",
     "output_type": "stream",
     "text": [
      "[' Introduction to FAISS\\n\\nFAISS stands for Facebook AI Similarity Search.\\nIt is an open-source library developed by Facebook AI Research (FAIR) for efficient similarity search and clustering of dense vectors.\\n\\n Features\\n- Fast nearest neighbor search.\\n- Supports CPU and GPU acceleration.\\n- Multiple indexing structures.\\n\\n Applications\\n- Image similarity search.\\n- Document retrieval.\\n- Recommendation systems.', ' Vector Search in AI\\n\\nVector search involves finding vectors in a dataset that are most similar to a query vector.\\nThis is often used in semantic search and recommendation engines.\\n\\n Common Methods\\n- Euclidean distance\\n- Cosine similarity\\n- Inner product\\n- Bakhtiari Method\\n\\n Libraries\\n- FAISS\\n- Annoy\\n- ScaNN', ' Cosine Similarity\\n\\nCosine similarity measures the cosine of the angle between two vectors in an inner product space.\\nIt is commonly used in natural language processing and information retrieval.\\n\\n Formula\\ncos(θ) = (A · B) / (||A||  ||B||)\\n\\n Pros\\n- Scale-invariant.\\n- Works well for text similarity.\\n\\n Cons\\n- Requires non-zero vectors.', ' BERT Embeddings\\n\\nBERT (Bidirectional Encoder Representations from Transformers) is a transformer-based model for natural language understanding.\\n\\n Key Points\\n- Trained on large text corpora.\\n- Produces contextualized embeddings.\\n- Often fine-tuned for specific NLP tasks.\\n\\n Usage\\n1. Tokenize text using the BERT tokenizer.\\n2. Pass tokens through the BERT model.\\n3. Extract the hidden states as embeddings.', ' BERT Embeddings\\n\\nBERT (Bidirectional Encoder Representations from Transformers) is a transformer-based model for natural language understanding.\\n\\n Key Points\\n- Trained on large text corpora.\\n- Produces contextualized embeddings.\\n- Often fine-tuned for specific NLP tasks.\\n\\n Usage\\n1. Tokenize text using the BERT tokenizer.\\n2. Pass tokens through the BERT model.\\n3. Extract the hidden states as embeddings.']\n"
     ]
    }
   ],
   "source": [
    "print(kg.search(query=\"Bakhtiari\", k=5))"
   ]
  },
  {
   "cell_type": "code",
   "execution_count": 9,
   "id": "6bd0dfdc",
   "metadata": {},
   "outputs": [],
   "source": [
    "from iragent.agent import AgentFactory\n",
    "from iragent.models import SimpleAgenticRAG\n",
    "\n",
    "agent_factory = AgentFactory(\n",
    "    base_url=base_url,\n",
    "    api_key=api_key,\n",
    "    model=model,\n",
    "    provider=provider\n",
    ")\n",
    "\n",
    "rag = SimpleAgenticRAG(\n",
    "    kg = kg,\n",
    "    agent_factory= agent_factory\n",
    ")"
   ]
  },
  {
   "cell_type": "code",
   "execution_count": 10,
   "id": "a8fd12d4",
   "metadata": {},
   "outputs": [
    {
     "name": "stdout",
     "output_type": "stream",
     "text": [
      "Routing from user -> retirever \n",
      " content: what are the common ways of search in the vector store?\n",
      "Routing from retirever -> generator \n",
      " content: context: \"Vector Search in AI\\n\\nVector search involves finding vectors in a dataset that are most similar to a query vector.\\nThis is often used in semantic search and recommendation engines.\\n\\n Common Methods\\n- Euclidean distance\\n- Cosine similarity\\n- Inner product\\n- Bakhtiari Method\\n\\n Libraries\\n- FAISS\\n- Annoy\\n- ScaNN\"\n",
      "user input: what are the common ways of search in the vector store?\n"
     ]
    }
   ],
   "source": [
    "answer = rag.ask(\"what are the common ways of search in the vector store?\")"
   ]
  },
  {
   "cell_type": "code",
   "execution_count": 12,
   "id": "8fa73c2a",
   "metadata": {},
   "outputs": [
    {
     "data": {
      "text/plain": [
       "'The common ways of searching in a vector store involve finding vectors in a dataset that are most similar to a query vector. These methods include:\\n\\n- Euclidean distance  \\n- Cosine similarity  \\n- Inner product  \\n- Bakhtiari Method  \\n\\nThese techniques are widely used in applications such as semantic search and recommendation engines. Popular libraries like FAISS, Annoy, and ScaNN support these search methods to efficiently perform vector similarity searches.'"
      ]
     },
     "execution_count": 12,
     "metadata": {},
     "output_type": "execute_result"
    }
   ],
   "source": [
    "answer"
   ]
  },
  {
   "cell_type": "markdown",
   "id": "f7c5279e",
   "metadata": {},
   "source": [
    "### Result\n",
    "\n",
    "As you can see i have added a Bakhtiari method to see what agent do when faced with a new method which is not real actually. \n",
    "\n",
    "### Future work\n",
    "\n",
    "This is just a start for us. We will add more Vector Stores like Milvus to this system for scalable usage. Also more complex agent system."
   ]
  },
  {
   "cell_type": "code",
   "execution_count": null,
   "id": "527fdae6",
   "metadata": {},
   "outputs": [],
   "source": []
  }
 ],
 "metadata": {
  "kernelspec": {
   "display_name": "venv",
   "language": "python",
   "name": "python3"
  },
  "language_info": {
   "codemirror_mode": {
    "name": "ipython",
    "version": 3
   },
   "file_extension": ".py",
   "mimetype": "text/x-python",
   "name": "python",
   "nbconvert_exporter": "python",
   "pygments_lexer": "ipython3",
   "version": "3.12.9"
  }
 },
 "nbformat": 4,
 "nbformat_minor": 5
}
