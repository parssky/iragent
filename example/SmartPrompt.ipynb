{
 "cells": [
  {
   "cell_type": "code",
   "execution_count": null,
   "id": "0904114a",
   "metadata": {},
   "outputs": [],
   "source": [
    "base_url= \"\" # use your own base_url from api provider or local provider like ollama.\n",
    "api_key = \"\" # use your own api_key.\n",
    "# provider = \"openai\" # Deprecated No need for provider any more\n",
    "model = \"gpt-4o-mini\""
   ]
  },
  {
   "cell_type": "code",
   "execution_count": null,
   "id": "686c8d4a",
   "metadata": {},
   "outputs": [
    {
     "name": "stdout",
     "output_type": "stream",
     "text": [
      "Routing from user -> prompt_maker \n",
      " content: \n",
      "        Here is the input example :\n",
      "        Yesterday I go shopping and buy some banana and apple and oranges.\n",
      "        \n",
      "        Here is the output example i have expected from system.\n",
      "        apple-banana-orange\n",
      "\n",
      "        \n",
      "Routing from prompt_maker -> prompt_reader \n",
      " content: Extract the unique fruits mentioned in the input sentence and format them in a hyphen-separated string, sorted alphabetically.\n",
      "Routing from prompt_reader -> prompt_maker \n",
      " content: Feedback for prompt_maker:\n",
      "\n",
      "1. **Clarity**: The prompt could benefit from clearer instructions regarding the expected format of the input sentence. For example, specifying whether the fruits will be in a list, a paragraph, or another format would help in understanding how to extract them.\n",
      "\n",
      "2. **Examples**: Providing an example input sentence along with the expected output would enhance comprehension. This would illustrate the extraction process and the formatting requirements.\n",
      "\n",
      "3. **Handling Variations**: The prompt does not address potential variations in fruit names (e.g., \"apple\" vs. \"ApPle\") or plural forms (e.g., \"bananas\" vs. \"banana\"). Including instructions on how to handle these variations would improve the robustness of the extraction process.\n",
      "\n",
      "4. **Error Handling**: There is no mention of how to handle cases where no fruits are found in the input sentence. Clarifying what the output should be in such cases would make the prompt more comprehensive.\n",
      "\n",
      "5. **Scope**: The prompt assumes that the input will only contain fruits. It might be useful to specify whether to ignore other types of words or if there are any constraints on the types of fruits to be considered.\n",
      "\n",
      "Overall, refining these aspects would lead to a more effective and user-friendly prompt.\n",
      "Routing from prompt_maker -> prompt_reader \n",
      " content: You are a text extraction system designed to identify and extract fruit names from a given input sentence. Your task is to process the input and return a list of fruits mentioned, formatted as a comma-separated string. \n",
      "\n",
      "**Instructions:**\n",
      "1. Identify and extract all fruit names from the input sentence. \n",
      "2. The output should be in lowercase and include only the names of the fruits, separated by commas.\n",
      "3. Handle variations in fruit names (e.g., \"apple\" vs. \"ApPle\") and plural forms (e.g., \"bananas\" vs. \"banana\") by standardizing them to their singular, lowercase form.\n",
      "4. If no fruits are found in the input sentence, return an empty string.\n",
      "5. Ignore any other types of words or items that are not fruits.\n",
      "\n",
      "**Example:**\n",
      "Input: \"I went to the market and bought some bananas and apples.\"\n",
      "Output: \"banana, apple\"\n",
      "\n",
      "Now, process the following input: \n",
      "{input_data}\n",
      "Routing from prompt_reader -> prompt_maker \n",
      " content: Feedback for the prompt maker:\n",
      "\n",
      "1. **Clarity and Specificity**: The prompt is generally clear, but it could benefit from more specific examples of fruit names to ensure that the system can recognize a wider variety of fruits. Including a list of common fruits or examples of less common fruits could help improve the extraction accuracy.\n",
      "\n",
      "2. **Handling Ambiguities**: The prompt does not address how to handle ambiguous terms that may refer to fruits in some contexts but not in others (e.g., \"peach\" in \"peach tree\"). Providing guidance on how to deal with such cases would enhance the robustness of the extraction system.\n",
      "\n",
      "3. **Input Format**: The placeholder `{input_data}` is not defined in the prompt. It would be helpful to specify the expected format of the input data (e.g., a complete sentence, a list of sentences) to avoid confusion.\n",
      "\n",
      "4. **Output Format**: While the output format is specified as a comma-separated string, it might be useful to clarify whether there should be a space after each comma or if the fruits should be listed without any spaces.\n",
      "\n",
      "5. **Error Handling**: The prompt mentions returning an empty string if no fruits are found, but it does not specify how to handle potential errors in input (e.g., if the input is not a valid sentence). Including error handling instructions could improve the system's reliability.\n",
      "\n",
      "Overall, while the prompt provides a solid foundation for a text extraction system, addressing these areas could enhance its effectiveness and clarity.\n"
     ]
    }
   ],
   "source": [
    "from iragent.agent import AgentFactory\n",
    "from iragent.models import SmartPrompt\n",
    "\n",
    "agent_factory = AgentFactory(\n",
    "    base_url=base_url,\n",
    "    api_key=api_key,\n",
    "    model=model,\n",
    ")\n",
    "\n",
    "sp = SmartPrompt(agent_factory=agent_factory)\n",
    "i = \"Yesterday I go shopping and buy some banana and apple and oranges.\"\n",
    "o = \"apple-banana-orange\"\n",
    "msg = sp.generate(\n",
    "    input=i,\n",
    "    output=o\n",
    ")"
   ]
  },
  {
   "cell_type": "code",
   "execution_count": 3,
   "id": "1026a3b8",
   "metadata": {},
   "outputs": [
    {
     "data": {
      "text/plain": [
       "'Extract all fruit names from the provided input sentence. The input will be a complete sentence containing various items, including fruits. Return the extracted fruit names as a comma-separated string without spaces after the commas. If no fruits are found, return an empty string. Handle ambiguous terms carefully, ensuring that only recognized fruit names are included. The input format will be a single sentence, and ensure to validate that the input is a proper sentence before processing. \\n\\nExample input: \"I went to the market and bought oranges, peaches, and grapes.\"\\nExpected output: \"oranges,peaches,grapes\"'"
      ]
     },
     "execution_count": 3,
     "metadata": {},
     "output_type": "execute_result"
    }
   ],
   "source": [
    "msg.content"
   ]
  },
  {
   "cell_type": "code",
   "execution_count": null,
   "id": "00083c29",
   "metadata": {},
   "outputs": [],
   "source": []
  }
 ],
 "metadata": {
  "kernelspec": {
   "display_name": "venv",
   "language": "python",
   "name": "python3"
  },
  "language_info": {
   "codemirror_mode": {
    "name": "ipython",
    "version": 3
   },
   "file_extension": ".py",
   "mimetype": "text/x-python",
   "name": "python",
   "nbconvert_exporter": "python",
   "pygments_lexer": "ipython3",
   "version": "3.12.9"
  }
 },
 "nbformat": 4,
 "nbformat_minor": 5
}
