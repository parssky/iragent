{
 "cells": [
  {
   "cell_type": "markdown",
   "id": "67b890e9",
   "metadata": {},
   "source": [
    "# SmartAgentBuilder\n",
    "\n",
    "In this example you can see how this module can break tasks and create agents atumatically for you. "
   ]
  },
  {
   "cell_type": "code",
   "execution_count": null,
   "id": "579d2068",
   "metadata": {},
   "outputs": [],
   "source": [
    "base_url= \"\" # use your own base_url from api provider or local provider like ollama.\n",
    "api_key = \"\" # use your own api_key.\n",
    "# provider = \"openai\" # Deprecated No need for provider any more\n",
    "model = \"gpt-4o-mini\""
   ]
  },
  {
   "cell_type": "code",
   "execution_count": null,
   "id": "10561d55",
   "metadata": {},
   "outputs": [
    {
     "name": "stdout",
     "output_type": "stream",
     "text": [
      "Routing from user -> task_generator\n",
      "Routing from task_generator -> agent_creator\n",
      "Agents are created : broken_word_extractor | correction_suggester | text_compiler\n"
     ]
    }
   ],
   "source": [
    "from iragent.agent import AgentFactory\n",
    "from iragent.models import SmartAgentBuilder\n",
    "\n",
    "agent_factory = AgentFactory(\n",
    "    base_url=base_url,\n",
    "    api_key=api_key,\n",
    "    model=model,\n",
    ")\n",
    "\n",
    "sab = SmartAgentBuilder(\n",
    "    agent_factory=agent_factory,\n",
    ")\n",
    "task = \"\"\"\n",
    "I have a text which contain broken words and i need to correct them. So i want to just pass the broken text,\n",
    "then get the corrected text. \n",
    "Input: broken text.\n",
    "output: corrected text.\n",
    "\"\"\"\n",
    "\n",
    "manager = sab.create_agent(\n",
    "    task=task,\n",
    ")\n"
   ]
  },
  {
   "cell_type": "code",
   "execution_count": 7,
   "id": "1a982ff9",
   "metadata": {},
   "outputs": [
    {
     "name": "stdout",
     "output_type": "stream",
     "text": [
      "Routing from user -> broken_word_extractor \n",
      " content: Ths is a smple txt whre sme of the wrds are mssing lttrs an the sntnce strctre is nt prfct. It may be hrder to undrstand, bt you cn stil knd of figr out wht it mens.\n",
      "Routing from broken_word_extractor -> correction_suggester \n",
      " content: ['Ths', 'smple', 'txt', 'sme', 'wrds', 'mssing', 'lttrs', 'sntnce', 'strctre', 'nt', 'prfct', 'hrder', 'undrstand', 'bt', 'cn', 'stil', 'knd', 'figr', 'wht', 'mens']\n",
      "Routing from correction_suggester -> text_compiler \n",
      " content: Here are the suggested corrections for each broken word provided:\n",
      "\n",
      "1. Ths - This\n",
      "2. smple - simple\n",
      "3. txt - text\n",
      "4. sme - some\n",
      "5. wrds - words\n",
      "6. mssing - missing\n",
      "7. lttrs - letters\n",
      "8. sntnce - sentence\n",
      "9. strctre - structure\n",
      "10. nt - not\n",
      "11. prfct - perfect\n",
      "12. hrder - harder\n",
      "13. und\n",
      "Routing from text_compiler -> text_compiler \n",
      " content: This simple text has some words missing letters, sentence structure is not perfect, harder to understand.\n",
      "Routing from text_compiler -> text_compiler \n",
      " content: This simple text has some words missing letters, and the sentence structure is not perfect, making it harder to understand.\n",
      "Routing from text_compiler -> text_compiler \n",
      " content: This simple text has some words missing letters, and the sentence structure is not perfect, making it harder to understand.\n"
     ]
    }
   ],
   "source": [
    "msg = manager.start(message =\"Ths is a smple txt whre sme of the wrds are mssing lttrs an the sntnce strctre is nt prfct. It may be hrder to undrstand, bt you cn stil knd of figr out wht it mens.\")"
   ]
  },
  {
   "cell_type": "code",
   "execution_count": 8,
   "id": "62c70fda",
   "metadata": {},
   "outputs": [
    {
     "data": {
      "text/plain": [
       "'This simple text has some words missing letters, and the sentence structure is not perfect, making it harder to understand.'"
      ]
     },
     "execution_count": 8,
     "metadata": {},
     "output_type": "execute_result"
    }
   ],
   "source": [
    "msg.content"
   ]
  },
  {
   "cell_type": "code",
   "execution_count": null,
   "id": "c626eacf",
   "metadata": {},
   "outputs": [],
   "source": []
  }
 ],
 "metadata": {
  "kernelspec": {
   "display_name": "venv",
   "language": "python",
   "name": "python3"
  },
  "language_info": {
   "codemirror_mode": {
    "name": "ipython",
    "version": 3
   },
   "file_extension": ".py",
   "mimetype": "text/x-python",
   "name": "python",
   "nbconvert_exporter": "python",
   "pygments_lexer": "ipython3",
   "version": "3.12.9"
  }
 },
 "nbformat": 4,
 "nbformat_minor": 5
}
