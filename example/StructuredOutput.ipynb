{
 "cells": [
  {
   "cell_type": "code",
   "execution_count": null,
   "id": "abf4dab8",
   "metadata": {},
   "outputs": [],
   "source": [
    "from iragent.agent import AgentFactory\n",
    "from iragent.message import Message\n",
    "base_url= \"\" # use your own base_url from api provider or local provider like ollama.\n",
    "api_key = \"\" # use your own api_key.\n",
    "provider = \"openai\" # openai for openai like provider (vLLM or openrouter) and ollama for local use.\n",
    "model = \"gpt-4o-mini\""
   ]
  },
  {
   "cell_type": "code",
   "execution_count": null,
   "id": "acfda585",
   "metadata": {},
   "outputs": [
    {
     "data": {
      "text/plain": [
       "{'fruits': ['apple', 'banana']}"
      ]
     },
     "execution_count": 2,
     "metadata": {},
     "output_type": "execute_result"
    }
   ],
   "source": [
    "\n",
    "agent_factory = AgentFactory(\n",
    "    base_url=base_url,\n",
    "    api_key=api_key,\n",
    "    model=model,\n",
    "    provider=provider\n",
    ")\n",
    "\n",
    "PROMPT = \"\"\"\n",
    "You are an intelligent assistant that extracts **fruit names** from a given context.\n",
    "\n",
    "**Input**:\n",
    "A context that may contain names of fruits.\n",
    "\n",
    "**Output**:\n",
    "Return a JSON object listing all the fruit names found.\n",
    "\n",
    "**Example**:\n",
    "{\n",
    "  \"fruits\": [\"apple\", \"banana\", \"orange\"]\n",
    "}\n",
    "\"\"\"\n",
    "\n",
    "agent1 = agent_factory.create_agent(\n",
    "    name=\"fruits_extractor\",\n",
    "    system_prompt= PROMPT,\n",
    "    response_format={ \"type\": \"json_object\" } # For AvalAI provider\n",
    ")\n",
    "\n",
    "res = agent1.call_message(Message(content=\"I have 2 apples and One banana, may be i need to buy 2 kilos of cucamber too.\"))\n",
    "res.content"
   ]
  },
  {
   "cell_type": "code",
   "execution_count": null,
   "id": "b3c8d215",
   "metadata": {},
   "outputs": [],
   "source": []
  }
 ],
 "metadata": {
  "kernelspec": {
   "display_name": "venv",
   "language": "python",
   "name": "python3"
  },
  "language_info": {
   "codemirror_mode": {
    "name": "ipython",
    "version": 3
   },
   "file_extension": ".py",
   "mimetype": "text/x-python",
   "name": "python",
   "nbconvert_exporter": "python",
   "pygments_lexer": "ipython3",
   "version": "3.12.9"
  }
 },
 "nbformat": 4,
 "nbformat_minor": 5
}
