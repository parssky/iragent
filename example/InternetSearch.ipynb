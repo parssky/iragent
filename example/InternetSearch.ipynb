{
 "cells": [
  {
   "cell_type": "code",
   "execution_count": null,
   "id": "153e72c8",
   "metadata": {},
   "outputs": [],
   "source": [
    "from iragent.models import InternetAgent\n",
    "\n",
    "base_url= \"\" # use your own base_url from api provider or local provider like ollama.\n",
    "api_key = \"\" # use your own api_key.\n",
    "# provider = \"openai\" # Deprecated No need for provider any more\n",
    "model = \"gpt-4o-mini\"\n"
   ]
  },
  {
   "cell_type": "code",
   "execution_count": null,
   "id": "10412d76",
   "metadata": {},
   "outputs": [],
   "source": [
    "internet_agent = InternetAgent(\n",
    "    chunk_size= 512,\n",
    "    model=model,\n",
    "    base_url=base_url,\n",
    "    api_key=api_key,\n",
    "    temperature=0.1,\n",
    "    max_token=512,\n",
    ")\n"
   ]
  },
  {
   "cell_type": "markdown",
   "id": "90741e2f",
   "metadata": {},
   "source": [
    "### query and num_results\n",
    "- query is what you are looking for.\n",
    "- num_result -> how many result do you need ?"
   ]
  },
  {
   "cell_type": "code",
   "execution_count": 4,
   "id": "0e407c5d",
   "metadata": {},
   "outputs": [
    {
     "name": "stdout",
     "output_type": "stream",
     "text": [
      "\n",
      "Starting search for query: 'What is python?' with top 2 results...\n",
      "\n"
     ]
    },
    {
     "name": "stderr",
     "output_type": "stream",
     "text": [
      "Processing search results: 0site [00:00, ?site/s]"
     ]
    },
    {
     "name": "stdout",
     "output_type": "stream",
     "text": [
      "\n",
      "Fetching: What is Python? Executive Summary (https://www.python.org/doc/essays/blurb/)\n"
     ]
    },
    {
     "name": "stderr",
     "output_type": "stream",
     "text": [
      "Processing search results: 0site [00:02, ?site/s]"
     ]
    },
    {
     "name": "stdout",
     "output_type": "stream",
     "text": [
      "Searching\n"
     ]
    },
    {
     "name": "stderr",
     "output_type": "stream",
     "text": [
      "Reading chunks: 100%|██████████| 2/2 [00:03<00:00,  1.70s/chunk]\n",
      "Processing search results: 1site [00:05,  5.55s/site]"
     ]
    },
    {
     "name": "stdout",
     "output_type": "stream",
     "text": [
      "Finished summarizing: What is Python? Executive Summary\n",
      "\n",
      "\n",
      "Fetching: Welcome to Python.org (https://www.python.org/)\n"
     ]
    },
    {
     "name": "stderr",
     "output_type": "stream",
     "text": [
      "Processing search results: 1site [00:06,  5.55s/site]"
     ]
    },
    {
     "name": "stdout",
     "output_type": "stream",
     "text": [
      "Searching\n"
     ]
    },
    {
     "name": "stderr",
     "output_type": "stream",
     "text": [
      "Reading chunks: 100%|██████████| 3/3 [00:04<00:00,  1.34s/chunk]\n",
      "Processing search results: 2site [00:10,  5.47s/site]"
     ]
    },
    {
     "name": "stdout",
     "output_type": "stream",
     "text": [
      "Finished summarizing: Welcome to Python.org\n",
      "\n",
      "Done processing all search results.\n",
      "\n"
     ]
    },
    {
     "name": "stderr",
     "output_type": "stream",
     "text": [
      "\n"
     ]
    },
    {
     "data": {
      "text/plain": [
       "[{'url': 'https://www.python.org/doc/essays/blurb/',\n",
       "  'title': 'What is Python? Executive Summary',\n",
       "  'content': 'Python is an interpreted, object-oriented, high-level programming language with dynamic semantics. It features high-level built-in data structures, dynamic typing, and dynamic binding, making it suitable for Rapid Application Development and as a scripting language. Python emphasizes readability with its simple syntax, which reduces program maintenance costs. It supports modules and packages for modularity and code reuse. The Python interpreter and extensive standard library are freely available for all major platforms. Python enhances productivity due to its fast edit-test-debug cycle, and debugging is straightforward, as errors raise exceptions rather than causing segmentation faults.'},\n",
       " {'url': 'https://www.python.org/',\n",
       "  'title': 'Welcome to Python.org',\n",
       "  'content': \"Python is a programming language that supports defining functions, including mandatory and optional arguments, keyword arguments, and arbitrary argument lists. It features compound data types like lists, which can be indexed, sliced, and manipulated. Python's syntax is straightforward, making calculations simple and intuitive.\\nPython is a programming language that allows you to work quickly and integrate systems more effectively. It is known for its clean syntax and indentation structure, making it easy to learn for both beginners and experienced programmers.\\nPython is a programming language that is used for various applications, including web development (with frameworks like Django and Flask), GUI development (using libraries like Tkinter and PyQt), scientific and numeric computing (with tools like SciPy and Pandas), and software development (using tools like Buildbot and Trac). The Python Software Foundation promotes and supports the growth of the Python programming language and its community.\"}]"
      ]
     },
     "execution_count": 4,
     "metadata": {},
     "output_type": "execute_result"
    }
   ],
   "source": [
    "results = internet_agent.start(query=\"What is python?\", num_result=2)\n",
    "results"
   ]
  },
  {
   "cell_type": "markdown",
   "id": "bd6b63fd",
   "metadata": {},
   "source": [
    "### For Faster search on the internet use this"
   ]
  },
  {
   "cell_type": "code",
   "execution_count": 5,
   "id": "8c660839",
   "metadata": {},
   "outputs": [
    {
     "name": "stdout",
     "output_type": "stream",
     "text": [
      "\n",
      "Starting search for query: 'What is python?' with top 2 results...\n",
      "\n",
      "\n",
      "Fetching: What is Python? Executive Summary (https://www.python.org/doc/essays/blurb/)\n",
      "\n",
      "Fetching: Welcome to Python.org (https://www.python.org/)\n"
     ]
    },
    {
     "name": "stderr",
     "output_type": "stream",
     "text": [
      "Processing search results:  50%|█████     | 1/2 [00:05<00:05,  5.03s/site]"
     ]
    },
    {
     "name": "stdout",
     "output_type": "stream",
     "text": [
      "Finished summarizing: What is Python? Executive Summary\n",
      "\n"
     ]
    },
    {
     "name": "stderr",
     "output_type": "stream",
     "text": [
      "Processing search results: 100%|██████████| 2/2 [00:05<00:00,  2.97s/site]"
     ]
    },
    {
     "name": "stdout",
     "output_type": "stream",
     "text": [
      "Finished summarizing: Welcome to Python.org\n",
      "\n",
      "Done processing all search results.\n",
      "\n"
     ]
    },
    {
     "name": "stderr",
     "output_type": "stream",
     "text": [
      "\n"
     ]
    },
    {
     "data": {
      "text/plain": [
       "[{'url': 'https://www.python.org/doc/essays/blurb/',\n",
       "  'title': 'What is Python? Executive Summary',\n",
       "  'content': 'Python is an interpreted, object-oriented, high-level programming language with dynamic semantics. It features high-level built-in data structures, dynamic typing, and dynamic binding, making it suitable for Rapid Application Development and as a scripting language. Python emphasizes readability with its simple syntax, which reduces program maintenance costs. It supports modules and packages for modularity and code reuse. The Python interpreter and extensive standard library are freely available for all major platforms. Python enhances productivity due to its fast edit-test-debug cycle, and debugging is simplified as errors raise exceptions rather than causing segmentation faults.'},\n",
       " {'url': 'https://www.python.org/',\n",
       "  'title': 'Welcome to Python.org',\n",
       "  'content': 'Python is a programming language that allows for defining functions, using both mandatory and optional arguments, and supports various data types such as lists. It features simple arithmetic operations and intuitive syntax for calculations. Python is known for its extensibility and ease of use in programming.\\nPython is a programming language that allows users to work quickly and integrate systems more effectively. It is known for its clean syntax and indentation structure, making it easy to learn for both beginners and experienced programmers.\\nPython is a programming language used for various applications, including web development (with frameworks like Django and Flask), GUI development (using libraries like Tkinter and PyQt), scientific and numeric computing (with tools like SciPy and Pandas), and software development (such as Buildbot and Trac). The Python Software Foundation promotes and supports the growth of the Python programming language and its community.'}]"
      ]
     },
     "execution_count": 5,
     "metadata": {},
     "output_type": "execute_result"
    }
   ],
   "source": [
    "results = internet_agent.fast_start(query=\"What is python?\", num_result=2)\n",
    "results"
   ]
  },
  {
   "cell_type": "code",
   "execution_count": null,
   "id": "ec9e5cb5",
   "metadata": {},
   "outputs": [],
   "source": []
  }
 ],
 "metadata": {
  "kernelspec": {
   "display_name": "venv",
   "language": "python",
   "name": "python3"
  },
  "language_info": {
   "codemirror_mode": {
    "name": "ipython",
    "version": 3
   },
   "file_extension": ".py",
   "mimetype": "text/x-python",
   "name": "python",
   "nbconvert_exporter": "python",
   "pygments_lexer": "ipython3",
   "version": "3.12.9"
  }
 },
 "nbformat": 4,
 "nbformat_minor": 5
}
