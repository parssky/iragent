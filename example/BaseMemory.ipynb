{
 "cells": [
  {
   "cell_type": "code",
   "execution_count": null,
   "id": "1da71a7f",
   "metadata": {},
   "outputs": [],
   "source": [
    "from iragent.agent import AgentFactory\n",
    "from iragent.models import AutoAgentManager\n",
    "\n",
    "base_url= \"\" # use your own base_url from api provider or local provider like ollama.\n",
    "api_key = \"\" # use your own api_key.\n",
    "provider = \"openai\" # openai for openai like provider (vLLM or openrouter) and ollama for local use.\n",
    "model = \"gpt-4o-mini\"\n"
   ]
  },
  {
   "cell_type": "markdown",
   "id": "d9777f2b",
   "metadata": {},
   "source": [
    "### BaseMemory\n",
    "\n",
    "This class of memory is a class for keeping history of chat for each agent, so the agents know the last conversation."
   ]
  },
  {
   "cell_type": "code",
   "execution_count": null,
   "id": "ea2ca3b6",
   "metadata": {},
   "outputs": [
    {
     "name": "stdout",
     "output_type": "stream",
     "text": [
      "Routing from user -> time_reader \n",
      " content: what time is it?\n",
      "Routing from time_reader -> date_exctractor \n",
      " content: The current time is 11:57 PM.\n",
      "Routing from date_exctractor -> date_converter \n",
      " content: 11:57 PM\n"
     ]
    },
    {
     "data": {
      "text/plain": [
       "'23:57  \\n[#finish#]'"
      ]
     },
     "execution_count": 2,
     "metadata": {},
     "output_type": "execute_result"
    }
   ],
   "source": [
    "from iragent.tools import get_time_now, simple_termination\n",
    "from iragent.memory import BaseMemory\n",
    "factory = AgentFactory(base_url,api_key, model, provider)\n",
    "\n",
    "agent1 = factory.create_agent(name=\"time_reader\",\n",
    "                            system_prompt=\"You are that one who can read time. there is a fucntion named get_time_now(), you can call it whether user ask about time or date.\",\n",
    "                            fn=[get_time_now],\n",
    "                            memory=BaseMemory\n",
    "                            )\n",
    "agent2 = factory.create_agent(name=\"date_exctractor\", \n",
    "                              system_prompt= \"You are that one who extract time from date. only return time.\", memory=BaseMemory)\n",
    "agent3 = factory.create_agent(name=\"date_converter\", \n",
    "                              system_prompt= \"You are that one who write the time in Persian. when you wrote time, then in new line write [#finish#]\", memory=BaseMemory)\n",
    "\n",
    "manager = AutoAgentManager(\n",
    "    init_message=\"what time is it?\",\n",
    "    agents= [agent1,agent2,agent3],\n",
    "    first_agent=agent1,\n",
    "    max_round=5,\n",
    "    termination_fn=simple_termination,\n",
    "    termination_word=\"[#finish#]\"\n",
    ")\n",
    "\n",
    "\n",
    "res = manager.start()\n",
    "res.content"
   ]
  },
  {
   "cell_type": "code",
   "execution_count": null,
   "id": "ece0343b",
   "metadata": {},
   "outputs": [],
   "source": []
  }
 ],
 "metadata": {
  "kernelspec": {
   "display_name": "venv",
   "language": "python",
   "name": "python3"
  },
  "language_info": {
   "codemirror_mode": {
    "name": "ipython",
    "version": 3
   },
   "file_extension": ".py",
   "mimetype": "text/x-python",
   "name": "python",
   "nbconvert_exporter": "python",
   "pygments_lexer": "ipython3",
   "version": "3.12.9"
  }
 },
 "nbformat": 4,
 "nbformat_minor": 5
}
