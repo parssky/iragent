{
 "cells": [
  {
   "cell_type": "code",
   "execution_count": 5,
   "id": "cfb57b78",
   "metadata": {},
   "outputs": [],
   "source": [
    "from iragent.models import SequentialAgents\n",
    "from iragent.agent import Agent\n",
    "\n",
    "api_key = \"tpsg-NUTfn0LPDOmmxWp5oH1BQmg0kE049gY\"\n",
    "model_name = \"gpt-4.1-mini\"\n",
    "base_url = \"https://api.metisai.ir/openai/v1\"\n",
    "\n",
    "agent1 = Agent(\n",
    "    name= \"Code Writer\",\n",
    "    model=model_name,\n",
    "    base_url=base_url,\n",
    "    api_key= api_key,\n",
    "    system_prompt=\"You are that one who is the Python code Write.\",\n",
    "    temprature=0.1,\n",
    "    max_token=100\n",
    ")\n",
    "\n",
    "agent2 = Agent(\n",
    "    name= \"Code Reviewer\",\n",
    "    model=model_name,\n",
    "    base_url=base_url,\n",
    "    api_key=api_key,\n",
    "    system_prompt=\"You are that one who review python code. at the end write whole code.\",\n",
    "    temprature=0.1,\n",
    "    max_token=100,\n",
    ")\n",
    "\n",
    "seq_ags = SequentialAgents(agents= [agent1,agent2])\n",
    "messages = seq_ags.start(\"Write a python code for fibonatchi.\")"
   ]
  },
  {
   "cell_type": "code",
   "execution_count": 6,
   "id": "0ef4c404",
   "metadata": {},
   "outputs": [
    {
     "data": {
      "text/plain": [
       "[{'role': 'user', 'content': 'Write a python code for fibonatchi.'},\n",
       " {'role': 'Code Writer',\n",
       "  'content': \"Sure! Here's a simple Python code to generate Fibonacci numbers:\\n\\n```python\\ndef fibonacci(n):\\n    a, b = 0, 1\\n    for _ in range(n):\\n        print(a, end=' ')\\n        a, b = b, a + b\\n\\n# Example: print first 10 Fibonacci numbers\\nfibonacci(10)\\n```\\n\\nThis will output:\\n```\\n0 1 1 2 3 5 8 13 21 34 \\n```\"},\n",
       " {'role': 'Code Reviewer',\n",
       "  'content': \"That's a clear and straightforward implementation of the Fibonacci sequence in Python! If you'd like, I can help you with some enhancements or variations, such as:\\n\\n- Returning the Fibonacci numbers as a list instead of printing them\\n- Using recursion\\n- Generating Fibonacci numbers up to a certain value instead of a count\\n- Using memoization for efficiency\\n\\nLet me know if you'd like to see any of these!\"}]"
      ]
     },
     "execution_count": 6,
     "metadata": {},
     "output_type": "execute_result"
    }
   ],
   "source": [
    "messages"
   ]
  },
  {
   "cell_type": "code",
   "execution_count": null,
   "id": "e31ee08d",
   "metadata": {},
   "outputs": [],
   "source": []
  }
 ],
 "metadata": {
  "kernelspec": {
   "display_name": "venv",
   "language": "python",
   "name": "python3"
  },
  "language_info": {
   "codemirror_mode": {
    "name": "ipython",
    "version": 3
   },
   "file_extension": ".py",
   "mimetype": "text/x-python",
   "name": "python",
   "nbconvert_exporter": "python",
   "pygments_lexer": "ipython3",
   "version": "3.12.9"
  }
 },
 "nbformat": 4,
 "nbformat_minor": 5
}
