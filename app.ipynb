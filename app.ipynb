{
 "cells": [
  {
   "cell_type": "code",
   "execution_count": 1,
   "id": "cfb57b78",
   "metadata": {},
   "outputs": [
    {
     "name": "stdout",
     "output_type": "stream",
     "text": [
      "Routing from user -> time_reader\n",
      "Routing from time_reader -> Code Reviewer\n"
     ]
    }
   ],
   "source": [
    "from iragent.models import SimpleSequentialAgents\n",
    "from iragent.agent import Agent\n",
    "from iragent.tools import get_time_now\n",
    "\n",
    "\n",
    "\n",
    "api_key = \"tpsg-NUTfn0LPDOmmxWp5oH1BQmg0kE049gY\"\n",
    "model_name = \"gpt-4.1-mini\"\n",
    "base_url = \"https://api.metisai.ir/openai/v1\"\n",
    "\n",
    "\n",
    "\n",
    "\n",
    "agent_a = Agent(\n",
    "    name= \"time_reader\",\n",
    "    model=model_name,\n",
    "    base_url=base_url,\n",
    "    api_key= api_key,\n",
    "    system_prompt=\"You are that one who can read time, You have a function for it named get_time_now() no argument. each time someone ask you just return time.\",\n",
    "    temprature=0.1,\n",
    "    max_token=100,\n",
    "    fn= [get_time_now],\n",
    "    next_agent= \"Code Reviewer\"\n",
    ")\n",
    "\n",
    "agent_b = Agent(\n",
    "    name= \"Code Reviewer\",\n",
    "    model=model_name,\n",
    "    base_url=base_url,\n",
    "    api_key=api_key,\n",
    "    system_prompt=\"You are that one who convert standard time to numeric time. return the time.\",\n",
    "    temprature=0.1,\n",
    "    max_token=100,\n",
    ")\n",
    "\n",
    "manager = SimpleSequentialAgents([agent_a,agent_b], init_message=\"what time is it ?\")\n",
    "res = manager.start()"
   ]
  },
  {
   "cell_type": "code",
   "execution_count": 3,
   "id": "0ef4c404",
   "metadata": {},
   "outputs": [
    {
     "data": {
      "text/plain": [
       "'00:22:34 in numeric time is 002234.'"
      ]
     },
     "execution_count": 3,
     "metadata": {},
     "output_type": "execute_result"
    }
   ],
   "source": [
    "res.content"
   ]
  },
  {
   "cell_type": "code",
   "execution_count": null,
   "id": "e31ee08d",
   "metadata": {},
   "outputs": [],
   "source": []
  }
 ],
 "metadata": {
  "kernelspec": {
   "display_name": "venv",
   "language": "python",
   "name": "python3"
  },
  "language_info": {
   "codemirror_mode": {
    "name": "ipython",
    "version": 3
   },
   "file_extension": ".py",
   "mimetype": "text/x-python",
   "name": "python",
   "nbconvert_exporter": "python",
   "pygments_lexer": "ipython3",
   "version": "3.12.9"
  }
 },
 "nbformat": 4,
 "nbformat_minor": 5
}
