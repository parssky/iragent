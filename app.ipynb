{
 "cells": [
  {
   "cell_type": "code",
   "execution_count": 1,
   "id": "cfb57b78",
   "metadata": {},
   "outputs": [],
   "source": [
    "from iragent.models import SequentialAgents\n",
    "from iragent.agent import Agent\n",
    "from iragent.tools import get_time_now\n",
    "\n",
    "\n",
    "\n",
    "api_key = \"tpsg-NUTfn0LPDOmmxWp5oH1BQmg0kE049gY\"\n",
    "model_name = \"gpt-4.1-mini\"\n",
    "base_url = \"https://api.metisai.ir/openai/v1\"\n",
    "\n",
    "\n",
    "\n",
    "\n",
    "agent1 = Agent(\n",
    "    name= \"time_reader\",\n",
    "    model=model_name,\n",
    "    base_url=base_url,\n",
    "    api_key= api_key,\n",
    "    system_prompt=\"You are that one who can read time, You have a function for it named get_time_now() no argument. each time someone ask you just return time.\",\n",
    "    temprature=0.1,\n",
    "    max_token=100,\n",
    "    fn=[get_time_now]\n",
    ")\n",
    "\n",
    "# agent2 = Agent(\n",
    "#     name= \"Code Reviewer\",\n",
    "#     model=model_name,\n",
    "#     base_url=base_url,\n",
    "#     api_key=api_key,\n",
    "#     system_prompt=\"You are that one who review python code. at the end write whole code.\",\n",
    "#     temprature=0.1,\n",
    "#     max_token=100,\n",
    "# )\n",
    "\n",
    "seq_ags = SequentialAgents(agents= [agent1])\n",
    "messages = seq_ags.start(\"what time is it now ?\")"
   ]
  },
  {
   "cell_type": "code",
   "execution_count": 2,
   "id": "0ef4c404",
   "metadata": {},
   "outputs": [
    {
     "data": {
      "text/plain": [
       "[{'role': 'user', 'content': 'what time is it now ?'},\n",
       " {'role': 'time_reader',\n",
       "  'content': 'The current time is 2025-07-13 00:05:35.'}]"
      ]
     },
     "execution_count": 2,
     "metadata": {},
     "output_type": "execute_result"
    }
   ],
   "source": [
    "messages"
   ]
  },
  {
   "cell_type": "code",
   "execution_count": null,
   "id": "e31ee08d",
   "metadata": {},
   "outputs": [],
   "source": []
  }
 ],
 "metadata": {
  "kernelspec": {
   "display_name": "venv",
   "language": "python",
   "name": "python3"
  },
  "language_info": {
   "codemirror_mode": {
    "name": "ipython",
    "version": 3
   },
   "file_extension": ".py",
   "mimetype": "text/x-python",
   "name": "python",
   "nbconvert_exporter": "python",
   "pygments_lexer": "ipython3",
   "version": "3.12.9"
  }
 },
 "nbformat": 4,
 "nbformat_minor": 5
}
